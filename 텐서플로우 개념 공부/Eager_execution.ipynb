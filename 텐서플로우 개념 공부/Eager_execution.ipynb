{
  "nbformat": 4,
  "nbformat_minor": 0,
  "metadata": {
    "colab": {
      "name": "Eager_execution.ipynb",
      "provenance": [],
      "collapsed_sections": [],
      "toc_visible": true,
      "authorship_tag": "ABX9TyODEEbFFOqIbIHfs2nzs5uN",
      "include_colab_link": true
    },
    "kernelspec": {
      "name": "python3",
      "display_name": "Python 3"
    },
    "language_info": {
      "name": "python"
    }
  },
  "cells": [
    {
      "cell_type": "markdown",
      "metadata": {
        "id": "view-in-github",
        "colab_type": "text"
      },
      "source": [
        "<a href=\"https://colab.research.google.com/github/kkimlee/TensorFlow/blob/main/%ED%85%90%EC%84%9C%ED%94%8C%EB%A1%9C%EC%9A%B0%20%EA%B0%9C%EB%85%90%20%EA%B3%B5%EB%B6%80/Eager_execution.ipynb\" target=\"_parent\"><img src=\"https://colab.research.google.com/assets/colab-badge.svg\" alt=\"Open In Colab\"/></a>"
      ]
    },
    {
      "cell_type": "markdown",
      "metadata": {
        "id": "u7aml9g3f-DT"
      },
      "source": [
        "# 설치와 기본 사용법\n",
        "\n"
      ]
    },
    {
      "cell_type": "code",
      "metadata": {
        "id": "tWxbizdKf5nG"
      },
      "source": [
        "import tensorflow as tf\n",
        "import cProfile"
      ],
      "execution_count": 17,
      "outputs": []
    },
    {
      "cell_type": "markdown",
      "metadata": {
        "id": "KglwwoEwgh-4"
      },
      "source": [
        "텐서플로우 2.0이상 버전부터는 즉시 실행이 기본으로 활성화되어 있음"
      ]
    },
    {
      "cell_type": "code",
      "metadata": {
        "colab": {
          "base_uri": "https://localhost:8080/"
        },
        "id": "Z5V-wSoFgZoT",
        "outputId": "1cfcd1bd-94ba-4557-97cb-a48eab547795"
      },
      "source": [
        "tf.executing_eagerly()"
      ],
      "execution_count": 18,
      "outputs": [
        {
          "output_type": "execute_result",
          "data": {
            "text/plain": [
              "True"
            ]
          },
          "metadata": {
            "tags": []
          },
          "execution_count": 18
        }
      ]
    },
    {
      "cell_type": "markdown",
      "metadata": {
        "id": "AGV_OPhFf861"
      },
      "source": [
        "세션없이 텐서플로 연산을 실행할 수 있고, 결과 확인이 가능함"
      ]
    },
    {
      "cell_type": "code",
      "metadata": {
        "colab": {
          "base_uri": "https://localhost:8080/"
        },
        "id": "ujsZVoItgi1j",
        "outputId": "76e630d8-fa4a-4f90-b94e-b68b573f4e38"
      },
      "source": [
        "x = [[2.]]\n",
        "m = tf.matmul(x, x)\n",
        "print(\"hello, {}\".format(m))"
      ],
      "execution_count": 19,
      "outputs": [
        {
          "output_type": "stream",
          "text": [
            "hello, [[4.]]\n"
          ],
          "name": "stdout"
        }
      ]
    },
    {
      "cell_type": "markdown",
      "metadata": {
        "id": "DbYNvfjDg-Zq"
      },
      "source": [
        "NumPy와 같이 작동함  \n",
        "NumPy 배열을 tf.Tensor 객체로 변환하여 tf.Tensor.numpy 메서드를 이용해 객체 값을 NumPy ndarray로 반환"
      ]
    },
    {
      "cell_type": "code",
      "metadata": {
        "colab": {
          "base_uri": "https://localhost:8080/"
        },
        "id": "kBwTG3SJguRj",
        "outputId": "9618c751-adec-48a4-8b14-0c31f31b5c34"
      },
      "source": [
        "a = tf.constant([[1, 2],\n",
        "                 [3, 4]])\n",
        "print(a)"
      ],
      "execution_count": 20,
      "outputs": [
        {
          "output_type": "stream",
          "text": [
            "tf.Tensor(\n",
            "[[1 2]\n",
            " [3 4]], shape=(2, 2), dtype=int32)\n"
          ],
          "name": "stdout"
        }
      ]
    },
    {
      "cell_type": "code",
      "metadata": {
        "colab": {
          "base_uri": "https://localhost:8080/"
        },
        "id": "p3DUlEjlhfBj",
        "outputId": "53b2a2a6-c740-4de6-b5f6-e4fd5a55986e"
      },
      "source": [
        "# 브로드캐스팅\n",
        "b = tf.add(a, 1)\n",
        "print(b)"
      ],
      "execution_count": 21,
      "outputs": [
        {
          "output_type": "stream",
          "text": [
            "tf.Tensor(\n",
            "[[2 3]\n",
            " [4 5]], shape=(2, 2), dtype=int32)\n"
          ],
          "name": "stdout"
        }
      ]
    },
    {
      "cell_type": "code",
      "metadata": {
        "colab": {
          "base_uri": "https://localhost:8080/"
        },
        "id": "Vk2f6RslhlRS",
        "outputId": "cc87a2b7-1811-44cc-ec0c-1ab57a7bf62c"
      },
      "source": [
        "# 연산자 오버로딩\n",
        "print(a * b)"
      ],
      "execution_count": 22,
      "outputs": [
        {
          "output_type": "stream",
          "text": [
            "tf.Tensor(\n",
            "[[ 2  6]\n",
            " [12 20]], shape=(2, 2), dtype=int32)\n"
          ],
          "name": "stdout"
        }
      ]
    },
    {
      "cell_type": "code",
      "metadata": {
        "colab": {
          "base_uri": "https://localhost:8080/"
        },
        "id": "yPPR0_O8hn-S",
        "outputId": "df09aa2a-ffc2-4911-ea31-e506845111ab"
      },
      "source": [
        "# NumPy값 사용\n",
        "import numpy as np\n",
        "\n",
        "c = np.multiply(a, b)\n",
        "print(c)"
      ],
      "execution_count": 23,
      "outputs": [
        {
          "output_type": "stream",
          "text": [
            "[[ 2  6]\n",
            " [12 20]]\n"
          ],
          "name": "stdout"
        }
      ]
    },
    {
      "cell_type": "code",
      "metadata": {
        "colab": {
          "base_uri": "https://localhost:8080/"
        },
        "id": "nasKzfY4huMj",
        "outputId": "5ee15b34-33a2-482a-ea2c-d2d3366eca49"
      },
      "source": [
        "# Tensor를 numpy 값으로 변환\n",
        "print(a.numpy())"
      ],
      "execution_count": 24,
      "outputs": [
        {
          "output_type": "stream",
          "text": [
            "[[1 2]\n",
            " [3 4]]\n"
          ],
          "name": "stdout"
        }
      ]
    },
    {
      "cell_type": "markdown",
      "metadata": {
        "id": "HI-rnXDTh5WS"
      },
      "source": [
        "# 동적인 제어\n",
        "\n",
        "즉시 실행을 통해 모델이 실행되는 동안에도 동적인 제어가 가능함"
      ]
    },
    {
      "cell_type": "code",
      "metadata": {
        "id": "-nwJWvMrh436"
      },
      "source": [
        "def fizzbuzz(max_num):\n",
        "  counter = tf.constant(0)\n",
        "  max_num = tf.convert_to_tensor(max_num)\n",
        "  for num in range(1, max_num.numpy()+1):\n",
        "    num = tf.constant(num)\n",
        "    if int(num % 3) == 0 and int(num % 5) == 0:\n",
        "      print('FizzBuzz')\n",
        "    elif int(num % 3) == 0:\n",
        "      print('Fizz')\n",
        "    elif int(num % 5) == 0:\n",
        "      print('Buzz')\n",
        "    else:\n",
        "      print(num.numpy())\n",
        "    counter += 1"
      ],
      "execution_count": 25,
      "outputs": []
    },
    {
      "cell_type": "code",
      "metadata": {
        "colab": {
          "base_uri": "https://localhost:8080/"
        },
        "id": "tITbUdGgh1mj",
        "outputId": "4bfa656d-3b92-4852-ce0d-4e4688f283c8"
      },
      "source": [
        "fizzbuzz(15)"
      ],
      "execution_count": 26,
      "outputs": [
        {
          "output_type": "stream",
          "text": [
            "1\n",
            "2\n",
            "Fizz\n",
            "4\n",
            "Buzz\n",
            "Fizz\n",
            "7\n",
            "8\n",
            "Fizz\n",
            "Buzz\n",
            "11\n",
            "Fizz\n",
            "13\n",
            "14\n",
            "FizzBuzz\n"
          ],
          "name": "stdout"
        }
      ]
    },
    {
      "cell_type": "markdown",
      "metadata": {
        "id": "bbR4Hc86lcCy"
      },
      "source": [
        "# 그래디언트 계산\n",
        "\n",
        "실행 중에 그래디언트를 계산하고 이용하기 위해 tf.GradientTape을 이용할 수 있음    \n",
        "\n",
        "실행 중에 모든 연산은 tape에 저장되며, tape을 거꾸로 연산하여 그래디언트를 계산 한 후 tape은 사라짐  \n",
        "  \n",
        "tf.GradientTape은 오직 하나의 그래디언트만을 계산할 수 있고 추가적인 호출은 실행중 에러(runtime error)를 발생시킴"
      ]
    },
    {
      "cell_type": "code",
      "metadata": {
        "colab": {
          "base_uri": "https://localhost:8080/"
        },
        "id": "CgTkNY_oikoS",
        "outputId": "dcc29ca8-589a-4de1-99a6-e808cf70cd5e"
      },
      "source": [
        "w = tf.Variable([[1.0]])\n",
        "with tf.GradientTape() as tape:\n",
        "  loss = w * w\n",
        "\n",
        "grad = tape.gradient(loss, w)\n",
        "print(grad)"
      ],
      "execution_count": 27,
      "outputs": [
        {
          "output_type": "stream",
          "text": [
            "tf.Tensor([[2.]], shape=(1, 1), dtype=float32)\n"
          ],
          "name": "stdout"
        }
      ]
    },
    {
      "cell_type": "markdown",
      "metadata": {
        "id": "Btxs75nFmQe5"
      },
      "source": [
        "# 모델 훈련\n",
        "\n",
        "MNIST 모델 훈련"
      ]
    },
    {
      "cell_type": "code",
      "metadata": {
        "id": "rxptTABymQOR"
      },
      "source": [
        "# mnist 데이터 가져오기 및 포맷 맞추기\n",
        "(mnist_images, mnist_labels), _ = tf.keras.datasets.mnist.load_data()\n",
        "\n",
        "dataset = tf.data.Dataset.from_tensor_slices(\n",
        "    (tf.cast(mnist_images[..., tf.newaxis]/255, tf.float32),\n",
        "     tf.cast(mnist_labels, tf.int64)))\n",
        "dataset = dataset.shuffle(1000).batch(32)"
      ],
      "execution_count": 28,
      "outputs": []
    },
    {
      "cell_type": "code",
      "metadata": {
        "id": "r8Sbq2owmFfz"
      },
      "source": [
        "# 모델 생성\n",
        "mnist_model = tf.keras.Sequential([\n",
        "                                   tf.keras.layers.Conv2D(16, [3,3], activation='relu',\n",
        "                                                          input_shape=(None, None, 1)),\n",
        "                                   tf.keras.layers.Conv2D(16, [3,3], activation='relu'),\n",
        "                                   tf.keras.layers.GlobalAveragePooling2D(),\n",
        "                                   tf.keras.layers.Dense(10)\n",
        "])"
      ],
      "execution_count": 29,
      "outputs": []
    },
    {
      "cell_type": "markdown",
      "metadata": {
        "id": "F1Yvt0c2ddur"
      },
      "source": [
        "즉시 실행에선 훈련을 하지 않아도 모델을 이용하여 결과를 보는 것이 가능함"
      ]
    },
    {
      "cell_type": "code",
      "metadata": {
        "colab": {
          "base_uri": "https://localhost:8080/"
        },
        "id": "CMprbXRgdVCE",
        "outputId": "b92a5972-df4a-4131-f346-345c7daf1071"
      },
      "source": [
        "for images, labels in dataset.take(1):\n",
        "  print(\"로짓: \", mnist_model(images[0:1]).numpy())"
      ],
      "execution_count": 30,
      "outputs": [
        {
          "output_type": "stream",
          "text": [
            "로짓:  [[-0.01146818  0.02123119  0.03987922 -0.02694891 -0.01532512  0.02203199\n",
            "   0.03039968  0.03189754 -0.00503749  0.02261385]]\n"
          ],
          "name": "stdout"
        }
      ]
    },
    {
      "cell_type": "markdown",
      "metadata": {
        "id": "vA0Tpbavluyy"
      },
      "source": [
        "케라스는 자체적으로 fit을 통해 훈련이 가능하지만, 다음과 같이 수정하여 훈련시킬수 있음"
      ]
    },
    {
      "cell_type": "code",
      "metadata": {
        "id": "CZ5X_70qwyFf"
      },
      "source": [
        "optimizer = tf.keras.optimizers.Adam()\n",
        "loss_object = tf.keras.losses.SparseCategoricalCrossentropy(from_logits=True)\n",
        "\n",
        "loss_history = []\n"
      ],
      "execution_count": 44,
      "outputs": []
    },
    {
      "cell_type": "code",
      "metadata": {
        "id": "t_2t-jptdqRT"
      },
      "source": [
        "def train_step(images, labels):\n",
        "  with tf.GradientTape() as tape:\n",
        "    logits = mnist_model(images, training=True)\n",
        "\n",
        "    # 결과의 형태를 확인하기 위해 추가\n",
        "    tf.debugging.assert_equal(logits.shape, (32, 10))\n",
        "\n",
        "    loss_value = loss_object(labels, logits)\n",
        "\n",
        "  loss_history.append(loss_value.numpy().mean())\n",
        "  grads = tape.gradient(loss_value, mnist_model.trainable_variables)\n",
        "  optimizer.apply_gradients(zip(grads, mnist_model.trainable_variables))"
      ],
      "execution_count": 45,
      "outputs": []
    },
    {
      "cell_type": "code",
      "metadata": {
        "id": "jqAxFSisxmlA"
      },
      "source": [
        "def train():\n",
        "  for epoch in range(3):\n",
        "    for (batch, (images, labels)) in enumerate(dataset):\n",
        "      train_step(images, labels)\n",
        "    print('epchos {} ends'.format(epoch))"
      ],
      "execution_count": 46,
      "outputs": []
    },
    {
      "cell_type": "code",
      "metadata": {
        "colab": {
          "base_uri": "https://localhost:8080/"
        },
        "id": "khebFVN4xx8f",
        "outputId": "c8da490e-3501-4c81-f863-311de4ddd221"
      },
      "source": [
        "train()"
      ],
      "execution_count": 47,
      "outputs": [
        {
          "output_type": "stream",
          "text": [
            "epchos 0 ends\n",
            "epchos 1 ends\n",
            "epchos 2 ends\n"
          ],
          "name": "stdout"
        }
      ]
    },
    {
      "cell_type": "code",
      "metadata": {
        "colab": {
          "base_uri": "https://localhost:8080/",
          "height": 297
        },
        "id": "7FcHXoCBxyhP",
        "outputId": "455fc644-4371-4c11-d1c2-16987fc18855"
      },
      "source": [
        "import matplotlib.pyplot as plt\n",
        "\n",
        "plt.plot(loss_history)\n",
        "plt.xlabel('Batch #')\n",
        "plt.ylabel('Loss [entropy]')"
      ],
      "execution_count": 48,
      "outputs": [
        {
          "output_type": "execute_result",
          "data": {
            "text/plain": [
              "Text(0, 0.5, 'Loss [entropy]')"
            ]
          },
          "metadata": {
            "tags": []
          },
          "execution_count": 48
        },
        {
          "output_type": "display_data",
          "data": {
            "image/png": "[encoded data removed]",
            "text/plain": [
              "<Figure size 432x288 with 1 Axes>"
            ]
          },
          "metadata": {
            "tags": [],
            "needs_background": "light"
          }
        }
      ]
    },
    {
      "cell_type": "markdown",
      "metadata": {
        "id": "VrTDO7ee6XQ8"
      },
      "source": [
        "# 변수와 옵티마이저\n",
        "\n",
        "tf.Variable 객체는 자동 미분을 쉽게 하기 위해 학습동안 변경된 tf.Tensor 값을 저장함.\n",
        "\n",
        "모델의 파라미터를 캡슐화하기 위해 tf.Variable을 tf.GradientTape과 함께 사용"
      ]
    },
    {
      "cell_type": "code",
      "metadata": {
        "colab": {
          "base_uri": "https://localhost:8080/"
        },
        "id": "ZlgstsRi6Vvt",
        "outputId": "f263f3c0-2f9a-48db-c8ca-30826a7c70f0"
      },
      "source": [
        "class Model(tf.keras.Model):\n",
        "  def __init__(self):\n",
        "    super(Model, self).__init__()\n",
        "    self.W = tf.Variable(5., name='weight')\n",
        "    self.B = tf.Variable(10., name='bias')\n",
        "  def call(self, inputs):\n",
        "    return inputs * self.W + self.B\n",
        "\n",
        "# 약 3 * x + 2개의 점으로 구성된 실험 데이터\n",
        "NUM_EXAMPLES = 2000\n",
        "training_inputs = tf.random.normal([NUM_EXAMPLES])\n",
        "noise = tf.random.normal([NUM_EXAMPLES])\n",
        "training_outputs = training_inputs * 3 + 2 + noise\n",
        "\n",
        "# 최적화할 손실함수\n",
        "def loss(model, inputs, targets):\n",
        "  error = model(inputs) - targets\n",
        "  return tf.reduce_mean(tf.square(error))\n",
        "\n",
        "def grad(model, inputs, targets):\n",
        "  with tf.GradientTape() as tape:\n",
        "    loss_value = loss(model, inputs, targets)\n",
        "  return tape.gradient(loss_value, [model.W, model.B])\n",
        "\n",
        "# 정의:\n",
        "# 1. 모델\n",
        "# 2. 모델 파라미터에 대한 손실 함수의 미분\n",
        "# 3. 미분에 기초한 변수 업데이트 전략\n",
        "model = Model()\n",
        "optimizer = tf.keras.optimizers.SGD(learning_rate=0.01)\n",
        "\n",
        "print(\"초기 손실: {:.3f}\".format(loss(model, training_inputs, training_outputs)))\n",
        "\n",
        "# 반복 훈련\n",
        "for i in range(300):\n",
        "  grads = grad(model, training_inputs, training_outputs)\n",
        "  optimizer.apply_gradients(zip(grads, [model.W, model.B]))\n",
        "  if i % 20 == 0:\n",
        "    print(\"스텝 {:03d}에서 손실: {:.3f}\".format(i, loss(model, training_inputs, training_outputs)))\n",
        "\n",
        "print(\"최종 손실: {:.3f}\".format(loss(model, training_inputs, training_outputs)))\n",
        "print(\"W = {}, B = {}\".format(model.W.numpy(), model.B.numpy()))\n"
      ],
      "execution_count": 50,
      "outputs": [
        {
          "output_type": "stream",
          "text": [
            "초기 손실: 69.130\n",
            "스텝 000에서 손실: 66.444\n",
            "스텝 020에서 손실: 30.279\n",
            "스텝 040에서 손실: 14.104\n",
            "스텝 060에서 손실: 6.869\n",
            "스텝 080에서 손실: 3.633\n",
            "스텝 100에서 손실: 2.185\n",
            "스텝 120에서 손실: 1.537\n",
            "스텝 140에서 손실: 1.247\n",
            "스텝 160에서 손실: 1.117\n",
            "스텝 180에서 손실: 1.059\n",
            "스텝 200에서 손실: 1.033\n",
            "스텝 220에서 손실: 1.021\n",
            "스텝 240에서 손실: 1.016\n",
            "스텝 260에서 손실: 1.014\n",
            "스텝 280에서 손실: 1.013\n",
            "최종 손실: 1.012\n",
            "W = 3.0002715587615967, B = 1.994046926498413\n"
          ],
          "name": "stdout"
        }
      ]
    },
    {
      "cell_type": "markdown",
      "metadata": {
        "id": "JaqQgWCg89-E"
      },
      "source": [
        "# 즉시 실행에서 상태를 위한 객체 사용\n",
        "\n",
        "텐서플로 1.x에서는 변수의 수명은 tf.Session 객체에 의해 관리됨. 2.x 이상 버전에서는 객체의 수명은 그와 관련된 파이썬 객체 수명에 의해서 결정됨"
      ]
    },
    {
      "cell_type": "markdown",
      "metadata": {
        "id": "fMv-SueU9MBU"
      },
      "source": [
        "## 변수 객체\n",
        "\n",
        "2.x 이상 버전에서 변수는 객체의 마지막 참조가 제거될 때까지 유지되고 그 이후 삭제됨"
      ]
    },
    {
      "cell_type": "code",
      "metadata": {
        "id": "u3b2iV808JwM"
      },
      "source": [
        "if tf.config.experimental.list_physical_devices(\"GPU\"):\n",
        "  with tf.device(\"gpu:0\"):\n",
        "    print(\"GPU 사용 가능\")\n",
        "    v = tf.Variable(tf.random.normal([1000, 1000]))\n",
        "    v = None # v가 더이상 아무것도 참조하지 않기 때문에 GPU 메모리를 사용하지 않음"
      ],
      "execution_count": 51,
      "outputs": []
    },
    {
      "cell_type": "markdown",
      "metadata": {
        "id": "m_kaQxrF-D48"
      },
      "source": [
        "## 객체 기반의 저장\n",
        "\n",
        "훈련 체크포인트 저장\n",
        "\n",
        "tf.train.Checkpoint는 tf.Variable을 체크포인트 파일로 저장하거나 체크포인트 파일에서 복구할 수 있음"
      ]
    },
    {
      "cell_type": "code",
      "metadata": {
        "id": "yDxxmQJt9qXy"
      },
      "source": [
        "x = tf.Variable(10.)\n",
        "checkpoint = tf.train.Checkpoint(x=x)"
      ],
      "execution_count": 52,
      "outputs": []
    },
    {
      "cell_type": "code",
      "metadata": {
        "colab": {
          "base_uri": "https://localhost:8080/",
          "height": 35
        },
        "id": "Iix_m2Bt-LIN",
        "outputId": "3f5f5405-6cda-49d7-a314-6d246be408d2"
      },
      "source": [
        "x.assign(2.) # assign을 통해 변수에 새로운 값을 할당\n",
        "checkpoint_path = './ckpt'\n",
        "checkpoint.save('./ckpt/')"
      ],
      "execution_count": 53,
      "outputs": [
        {
          "output_type": "execute_result",
          "data": {
            "application/vnd.google.colaboratory.intrinsic+json": {
              "type": "string"
            },
            "text/plain": [
              "'./ckpt/-1'"
            ]
          },
          "metadata": {
            "tags": []
          },
          "execution_count": 53
        }
      ]
    },
    {
      "cell_type": "code",
      "metadata": {
        "colab": {
          "base_uri": "https://localhost:8080/"
        },
        "id": "TKlP6ZAQ-Q8c",
        "outputId": "6d76c05f-30ef-4706-9c3c-7ede55b065cd"
      },
      "source": [
        "x.assign(11.)\n",
        "\n",
        "# 체크포인트를 이용하여 값을 복구\n",
        "checkpoint.restore(tf.train.latest_checkpoint(checkpoint_path))\n",
        "\n",
        "print(x)"
      ],
      "execution_count": 54,
      "outputs": [
        {
          "output_type": "stream",
          "text": [
            "<tf.Variable 'Variable:0' shape=() dtype=float32, numpy=2.0>\n"
          ],
          "name": "stdout"
        }
      ]
    },
    {
      "cell_type": "markdown",
      "metadata": {
        "id": "nXqxq1l4-jkD"
      },
      "source": [
        "옵티마이저와 모델, 전역 단게 상태를 기록하기 위해서 tf.train.Checkpoint에 전달하면 됨"
      ]
    },
    {
      "cell_type": "code",
      "metadata": {
        "colab": {
          "base_uri": "https://localhost:8080/"
        },
        "id": "YbJYNEGD-dAd",
        "outputId": "580f2cd2-f910-418a-e9ee-596d45dcf4b8"
      },
      "source": [
        "import os\n",
        "\n",
        "model = tf.keras.Sequential([\n",
        "                             tf.keras.layers.Conv2D(16, [3, 3], activation='relu'),\n",
        "                             tf.keras.layers.GlobalAveragePooling2D(),\n",
        "                             tf.keras.layers.Dense(10)\n",
        "])\n",
        "optimizer = tf.keras.optimizers.Adam(learning_rate=0.001)\n",
        "checkpoint_dir = 'path/to/model_dir'\n",
        "if not os.path.exists(checkpoint_dir):\n",
        "  os.makedirs(checkpoint_dir)\n",
        "checkpoint_prefix = os.path.join(checkpoint_dir, \"ckpt\")\n",
        "root = tf.train.Checkpoint(optimizer=optimizer,\n",
        "                           model=model)\n",
        "\n",
        "root.save(checkpoint_prefix)\n",
        "root.restore(tf.train.latest_checkpoint(checkpoint_dir))"
      ],
      "execution_count": 55,
      "outputs": [
        {
          "output_type": "execute_result",
          "data": {
            "text/plain": [
              "<tensorflow.python.training.tracking.util.CheckpointLoadStatus at 0x7fbe09311510>"
            ]
          },
          "metadata": {
            "tags": []
          },
          "execution_count": 55
        }
      ]
    },
    {
      "cell_type": "markdown",
      "metadata": {
        "id": "rzcSVBQX_e_z"
      },
      "source": [
        "## 객체 지향형 지표\n",
        "\n",
        "tf.keras.metrics는 객체로 저장됨. 데이터를 이 객체에 전달하여 지표를 수정하고, tf.keras.metrics.result 메서드를 이용하여 결과를 얻을 수 있음"
      ]
    },
    {
      "cell_type": "code",
      "metadata": {
        "colab": {
          "base_uri": "https://localhost:8080/"
        },
        "id": "zxtLENeO_Uus",
        "outputId": "61ae4159-a3d8-4736-c779-cb5d46294c3b"
      },
      "source": [
        "m = tf.keras.metrics.Mean(\"loss\")\n",
        "m(0)\n",
        "m(5)\n",
        "m.result() # -> 2.5\n",
        "m([8, 9])\n",
        "m.result() # -> 5.5"
      ],
      "execution_count": 56,
      "outputs": [
        {
          "output_type": "execute_result",
          "data": {
            "text/plain": [
              "<tf.Tensor: shape=(), dtype=float32, numpy=5.5>"
            ]
          },
          "metadata": {
            "tags": []
          },
          "execution_count": 56
        }
      ]
    },
    {
      "cell_type": "markdown",
      "metadata": {
        "id": "ieRKA7vcAOHb"
      },
      "source": [
        "## 서머리와 텐서보드\n",
        "\n",
        "텐서보드는 훈련과정에서 모델을 파악하거나 디버깅, 최적화하기위해 사용되는 시각화 도구.\n",
        "\n",
        "서머리 정보를 기록하는데 tf.summary가 사용됨. 다음 코드에선 매 100번째 훈련마다 loss의 서머리 정보를 기록함"
      ]
    },
    {
      "cell_type": "code",
      "metadata": {
        "id": "EaUboQqi_40L"
      },
      "source": [
        "logdir = \"./tb/\"\n",
        "writer = tf.summary.create_file_writer(logdir)\n",
        "\n",
        "with writer.as_default():  # 또는 반복 전에 writer.set_as_default()를 호출\n",
        "  for i in range(1000):\n",
        "    step = i + 1\n",
        "    # 실제 훈련 함수로 손실을 계산\n",
        "    loss = 1 - 0.001 * step\n",
        "    if step % 100 == 0:\n",
        "      tf.summary.scalar('손실', loss, step=step)"
      ],
      "execution_count": 57,
      "outputs": []
    },
    {
      "cell_type": "code",
      "metadata": {
        "colab": {
          "base_uri": "https://localhost:8080/"
        },
        "id": "fAWODZDEAfr8",
        "outputId": "bd8f8959-cbb2-4056-a215-d3cc02f2b9f7"
      },
      "source": [
        "ls tb/"
      ],
      "execution_count": 60,
      "outputs": [
        {
          "output_type": "stream",
          "text": [
            "events.out.tfevents.1617692851.5bd5d86571ae.59.637024.v2\n"
          ],
          "name": "stdout"
        }
      ]
    },
    {
      "cell_type": "code",
      "metadata": {
        "id": "2OLXKSMxAipr"
      },
      "source": [
        ""
      ],
      "execution_count": null,
      "outputs": []
    }
  ]
}