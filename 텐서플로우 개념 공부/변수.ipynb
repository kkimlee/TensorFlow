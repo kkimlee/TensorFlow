{
  "nbformat": 4,
  "nbformat_minor": 0,
  "metadata": {
    "colab": {
      "name": "변수.ipynb",
      "provenance": [],
      "authorship_tag": "ABX9TyOEgBzLwAsTRmfxUO1exAP+",
      "include_colab_link": true
    },
    "kernelspec": {
      "name": "python3",
      "display_name": "Python 3"
    },
    "language_info": {
      "name": "python"
    }
  },
  "cells": [
    {
      "cell_type": "markdown",
      "metadata": {
        "id": "view-in-github",
        "colab_type": "text"
      },
      "source": [
        "<a href=\"https://colab.research.google.com/github/kkimlee/TensorFlow/blob/main/%ED%85%90%EC%84%9C%ED%94%8C%EB%A1%9C%EC%9A%B0%20%EA%B0%9C%EB%85%90%20%EA%B3%B5%EB%B6%80/%EB%B3%80%EC%88%98.ipynb\" target=\"_parent\"><img src=\"https://colab.research.google.com/assets/colab-badge.svg\" alt=\"Open In Colab\"/></a>"
      ]
    },
    {
      "cell_type": "code",
      "metadata": {
        "id": "UmxjGlQgX-BX"
      },
      "source": [
        "import tensorflow as tf"
      ],
      "execution_count": 1,
      "outputs": []
    },
    {
      "cell_type": "markdown",
      "metadata": {
        "id": "-w2QScGCYG09"
      },
      "source": [
        "# 변수 만들기\n",
        "\n",
        "변수는 tf.Variable을 이용해 생성"
      ]
    },
    {
      "cell_type": "code",
      "metadata": {
        "id": "yC3rzSiMYELn"
      },
      "source": [
        "my_tensor = tf.constant([[1.0, 2.0], [3.0, 4.0]])\n",
        "my_variable = tf.Variable(my_tensor)\n",
        "\n",
        "boo_variable = tf.Variable([False, False, False, True])\n",
        "complex_variable = tf.Variable([5 + 4j, 6+1j])"
      ],
      "execution_count": 4,
      "outputs": []
    },
    {
      "cell_type": "markdown",
      "metadata": {
        "id": "VGkFmpWlYfGN"
      },
      "source": [
        "변수는 텐서처럼 작동하며, tf.Tensor에서 지원되는 데이터 구조임. dtype과 모양을 가지며 NumPy형태로 변환 가능함"
      ]
    },
    {
      "cell_type": "code",
      "metadata": {
        "colab": {
          "base_uri": "https://localhost:8080/"
        },
        "id": "I2hgBGBFYTYV",
        "outputId": "1727b181-ce72-4ab2-df5a-f0c1ded8e0b2"
      },
      "source": [
        "print(\"shape: \", my_variable)\n",
        "print(\"DType: \", my_variable.dtype)\n",
        "print(\"As Numpy: \", my_variable.numpy)"
      ],
      "execution_count": 6,
      "outputs": [
        {
          "output_type": "stream",
          "text": [
            "shape:  <tf.Variable 'Variable:0' shape=(2, 2) dtype=float32, numpy=\n",
            "array([[1., 2.],\n",
            "       [3., 4.]], dtype=float32)>\n",
            "DType:  <dtype: 'float32'>\n",
            "As Numpy:  <bound method BaseResourceVariable.numpy of <tf.Variable 'Variable:0' shape=(2, 2) dtype=float32, numpy=\n",
            "array([[1., 2.],\n",
            "       [3., 4.]], dtype=float32)>>\n"
          ],
          "name": "stdout"
        }
      ]
    },
    {
      "cell_type": "markdown",
      "metadata": {
        "id": "uXb8R76TY6pE"
      },
      "source": [
        "변수는 재수성할 수 없고, 대부분의 텐서 연산은 변수에 적용 가능함"
      ]
    },
    {
      "cell_type": "code",
      "metadata": {
        "colab": {
          "base_uri": "https://localhost:8080/"
        },
        "id": "Wrtm-l42YtRl",
        "outputId": "5e02e21d-d12c-4069-ccf3-eb1be65f84a4"
      },
      "source": [
        "print(\"A variable:\",my_variable)\n",
        "print(\"\\nViewed as a tensor:\", tf.convert_to_tensor(my_variable))\n",
        "print(\"\\nIndex of highest value:\", tf.argmax(my_variable))\n",
        "\n",
        "# This creates a new tensor; it does not reshape the variable.\n",
        "print(\"\\nCopying and reshaping: \", tf.reshape(my_variable, ([1,4])))"
      ],
      "execution_count": 7,
      "outputs": [
        {
          "output_type": "stream",
          "text": [
            "A variable: <tf.Variable 'Variable:0' shape=(2, 2) dtype=float32, numpy=\n",
            "array([[1., 2.],\n",
            "       [3., 4.]], dtype=float32)>\n",
            "\n",
            "Viewed as a tensor: tf.Tensor(\n",
            "[[1. 2.]\n",
            " [3. 4.]], shape=(2, 2), dtype=float32)\n",
            "\n",
            "Index of highest value: tf.Tensor([1 1], shape=(2,), dtype=int64)\n",
            "\n",
            "Copying and reshaping:  tf.Tensor([[1. 2. 3. 4.]], shape=(1, 4), dtype=float32)\n"
          ],
          "name": "stdout"
        }
      ]
    },
    {
      "cell_type": "markdown",
      "metadata": {
        "id": "yPO853TdZBtU"
      },
      "source": [
        "변수는 텐서에 의해 지원되au, tf.Varialbe.assign을 사용하여 텐서를 재할당 하는것이 가능함. assign을 호출하는 경우 새로운 텐서를 할당하는 것이 아닌, 기존 텐서의 메모리가 재사용되는 방식임"
      ]
    },
    {
      "cell_type": "code",
      "metadata": {
        "colab": {
          "base_uri": "https://localhost:8080/"
        },
        "id": "Yg_85SdTZBcr",
        "outputId": "1b7d6077-95d2-4bb9-f6b4-f9a1142a2c89"
      },
      "source": [
        "a = tf.Variable([2.0, 3.0])\n",
        "a.assign([1, 2])\n",
        "try:\n",
        "  a.assign([1.0, 2.0, 3.0])\n",
        "except Exception as e:\n",
        "  print(f\"{type(e).__name__}: {e}\")"
      ],
      "execution_count": 8,
      "outputs": [
        {
          "output_type": "stream",
          "text": [
            "ValueError: Cannot assign to variable Variable:0 due to variable shape (2,) and value shape (3,) are incompatible\n"
          ],
          "name": "stdout"
        }
      ]
    },
    {
      "cell_type": "markdown",
      "metadata": {
        "id": "-hzI-3bJZfjs"
      },
      "source": [
        "기존 변수를 이용하여 새 변수를 만들면 지원 텐서가 복제됨. 두 변수는 같은 메모리를 공유하지 않음"
      ]
    },
    {
      "cell_type": "code",
      "metadata": {
        "colab": {
          "base_uri": "https://localhost:8080/"
        },
        "id": "g1q6sNz7Y_1l",
        "outputId": "5310dbe7-6997-4a11-cf9d-0e2ac333249d"
      },
      "source": [
        "a = tf.Variable([2.0, 3.0])\n",
        "b = tf.Variable(a)\n",
        "a.assign([5, 6])\n",
        "\n",
        "print(a.numpy())\n",
        "print(b.numpy())\n",
        "\n",
        "print(a.assign_add([2, 3]).numpy())\n",
        "print(a.assign_sub([7, 9]).numpy())"
      ],
      "execution_count": 9,
      "outputs": [
        {
          "output_type": "stream",
          "text": [
            "[5. 6.]\n",
            "[2. 3.]\n",
            "[7. 9.]\n",
            "[0. 0.]\n"
          ],
          "name": "stdout"
        }
      ]
    },
    {
      "cell_type": "markdown",
      "metadata": {
        "id": "CNh2aHeLaXRE"
      },
      "source": [
        "# 수명주기, 이름 지정 및 감시\n",
        "\n",
        "tf.Variable 인스턴스는 다른 Python 객체와 같은 수명 주기를 가짐. 변수에 대한 참조가 없으면 자동으로 할당이 해체됨.\n",
        "\n",
        "변수를 추적하고 디버그하는 데 도움이 되는 변수의 이름을 지정하는 것이 가능함. 두 변수에 같은 이름을 지정하는 것 또한 가능함"
      ]
    },
    {
      "cell_type": "code",
      "metadata": {
        "colab": {
          "base_uri": "https://localhost:8080/"
        },
        "id": "SM8wvxK5ZySW",
        "outputId": "2e75a8fa-b1d2-4092-e243-b17decaa4689"
      },
      "source": [
        "a = tf.Variable(my_tensor, name=\"Mark\")\n",
        "b = tf.Variable(my_tensor + 1, name=\"Mark\")\n",
        "\n",
        "print(a == b)"
      ],
      "execution_count": 11,
      "outputs": [
        {
          "output_type": "stream",
          "text": [
            "tf.Tensor(\n",
            "[[False False]\n",
            " [False False]], shape=(2, 2), dtype=bool)\n"
          ],
          "name": "stdout"
        }
      ]
    },
    {
      "cell_type": "markdown",
      "metadata": {
        "id": "m1Ryf1k3axoM"
      },
      "source": [
        "모델을 저장하거나 로드할 때 변수의 이름은 유지됨. 모델의 변수는 고유한 변수 이름이 자동으로 지정됨\n",
        "\n",
        "그래디언트가 필요하지 않은 변수의 경우, 변수 생성시 trainable 옵션을 False로 설정하여 변수의 그래디언트를 사용하지 않을 수 있음"
      ]
    },
    {
      "cell_type": "code",
      "metadata": {
        "id": "RVHafft4anaD"
      },
      "source": [
        "step_counter = tf.Variable(1, trainable=False)"
      ],
      "execution_count": 12,
      "outputs": []
    },
    {
      "cell_type": "markdown",
      "metadata": {
        "id": "IAyK6EsUbPtT"
      },
      "source": [
        "# 변수 및 텐서 배치\n",
        "\n",
        "대부분의 변수는 GPU가 사용한 경우 GPU에 배치됨\n",
        "\n",
        "GPU가 사용 가능한 경우에도 텐서와 변수를 CPU에 배치하는 방법이 있음. 기기 배치 로깅을 이용하면 변수가 어디에 배치되어있는지 확인하는 것 또한 가능함"
      ]
    },
    {
      "cell_type": "code",
      "metadata": {
        "colab": {
          "base_uri": "https://localhost:8080/"
        },
        "id": "kFRrXiTSbBMV",
        "outputId": "7d3443c4-24f2-4c3a-9e2c-fe31c104563f"
      },
      "source": [
        "with tf.device('CPU:0'):\n",
        "\n",
        "  a = tf.Variable([[1.0, 2.0, 3.0], [4.0, 5.0, 6.0]])\n",
        "  b = tf.constant([[1.0, 2.0], [3.0, 4.0], [5.0, 6.0]])\n",
        "  c = tf.matmul(a, b)\n",
        "\n",
        "print(c)"
      ],
      "execution_count": 13,
      "outputs": [
        {
          "output_type": "stream",
          "text": [
            "tf.Tensor(\n",
            "[[22. 28.]\n",
            " [49. 64.]], shape=(2, 2), dtype=float32)\n"
          ],
          "name": "stdout"
        }
      ]
    },
    {
      "cell_type": "markdown",
      "metadata": {
        "id": "gGSJZPvqbtjV"
      },
      "source": [
        "한 기기에서 변수 또는 텐서의 위치를 설정하고 다른 기기에서 계산을 수행하는 것이 가능함. 이 경우, 기기 간에 데이터를 복사해야 하기 때문에 지연이 발생함"
      ]
    },
    {
      "cell_type": "code",
      "metadata": {
        "colab": {
          "base_uri": "https://localhost:8080/"
        },
        "id": "YY3vTM75breV",
        "outputId": "00393854-db07-4279-8a13-12d975893de7"
      },
      "source": [
        "with tf.device('CPU:0'):\n",
        "  a = tf.Variable([[1.0, 2.0, 3.0], [4.0, 5.0, 6.0]])\n",
        "  b = tf.Variable([[1.0, 2.0, 3.0]])\n",
        "\n",
        "with tf.device('GPU:0'):\n",
        "  k = a * b\n",
        "\n",
        "print(k)"
      ],
      "execution_count": 15,
      "outputs": [
        {
          "output_type": "stream",
          "text": [
            "tf.Tensor(\n",
            "[[ 1.  4.  9.]\n",
            " [ 4. 10. 18.]], shape=(2, 3), dtype=float32)\n"
          ],
          "name": "stdout"
        }
      ]
    },
    {
      "cell_type": "markdown",
      "metadata": {
        "id": "lhiyp-2vcGeN"
      },
      "source": [
        "tf.config.set_soft_device_placement는 기본적으로 켜져 있기 때문에 GPU가 없는 기기에서 이 코드를 실행하여도 코드는 실행되며, 곱셈은 GPU가 아닌 CPU에서 작동함"
      ]
    }
  ]
}